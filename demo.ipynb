{
 "cells": [
  {
   "cell_type": "markdown",
   "metadata": {
    "kernel": "SoS"
   },
   "source": [
    "# Demo T1 processing notebook"
   ]
  },
  {
   "cell_type": "markdown",
   "metadata": {
    "kernel": "SoS"
   },
   "source": [
    "## Configuration options\n"
   ]
  },
  {
   "cell_type": "markdown",
   "metadata": {
    "kernel": "SoS"
   },
   "source": [
    "Please copy the link from OSF to your data:"
   ]
  },
  {
   "cell_type": "code",
   "execution_count": null,
   "metadata": {
    "kernel": "Octave"
   },
   "outputs": [],
   "source": [
    "# Instead of this step, you could also delete  this cell and the Download data section,\n",
    "# and instead upload your data directly through the Jupyter Notebook interface. Right-click\n",
    "# the Jupyter logo (top right) and open in a new tab, then click the upload button in the desired folder.\n",
    "# If you do this, I recommend you create a data/ folder in the directory of this notebook,\n",
    "# as would be done during unzipping the OSF data, since this notebook is written with that assumption.\n",
    "\n",
    "OSF_link = \"https://osf.io/9j3pa/download/\";"
   ]
  },
  {
   "cell_type": "markdown",
   "metadata": {
    "kernel": "Octave"
   },
   "source": [
    "Please specify your data type (\"Magnitude\" or \"Complex\"):"
   ]
  },
  {
   "cell_type": "code",
   "execution_count": null,
   "metadata": {
    "kernel": "Octave"
   },
   "outputs": [],
   "source": [
    "dataType = \"Magnitude\";"
   ]
  },
  {
   "cell_type": "code",
   "execution_count": null,
   "metadata": {
    "kernel": "Octave"
   },
   "outputs": [],
   "source": [
    "imagePath = '20191213_mhi_NIST/20191213_mhi_NIST_noFS.nii.gz'; % Path to image after unzipped\n",
    "# Here is how you must format imagePath if you have complex (i.e. Real/Imaginary) data\n",
    "# imagePath = {'20191213_mhi_NIST/20191213_mhi_NIST_noFS_real.nii.gz', '20191213_mhi_NIST/20191213_mhi_NIST_noFS_imag.nii.gz'}; % Path to image after unzipped"
   ]
  },
  {
   "cell_type": "markdown",
   "metadata": {
    "kernel": "Octave"
   },
   "source": [
    "## Download data"
   ]
  },
  {
   "cell_type": "code",
   "execution_count": null,
   "metadata": {
    "kernel": "Octave"
   },
   "outputs": [],
   "source": [
    "cmd = ['curl -L -o rrsg_dataset.zip', ' ', OSF_link];\n",
    "[STATUS,MESSAGE] = unix(cmd);\n",
    "unzip('rrsg_dataset.zip', 'data/');"
   ]
  },
  {
   "cell_type": "markdown",
   "metadata": {
    "kernel": "Octave"
   },
   "source": [
    "## Startup qMRLab"
   ]
  },
  {
   "cell_type": "code",
   "execution_count": null,
   "metadata": {
    "kernel": "Octave"
   },
   "outputs": [],
   "source": [
    "%% MATLAB/OCTAVE CODE\n",
    "% Adds qMRLab to the path of the environment\n",
    "\n",
    "try\n",
    "    cd ../work/qMRLab\n",
    "    startup\n",
    "    cd ../../demo\n",
    "catch\n",
    "    error(\"qMRLab could not be started correctly.\")\n",
    "end"
   ]
  },
  {
   "cell_type": "markdown",
   "metadata": {
    "kernel": "Octave"
   },
   "source": [
    "## Load data"
   ]
  },
  {
   "cell_type": "code",
   "execution_count": null,
   "metadata": {
    "kernel": "Octave"
   },
   "outputs": [],
   "source": [
    "switch dataType\n",
    "    case \"Magnitude\"\n",
    "        [data, hdr] = nii_load(strcat('data/', imagePath),0,'linear');\n",
    "        data = double(data);\n",
    "    case \"Complex\"\n",
    "        [data_re, hdr_re] = nii_load(strcat('data/', imagePath{1}),0,'linear');\n",
    "        [data_im, hdr_im] = nii_load(strcat('data/', imagePath{2}),0,'linear');\n",
    "        data = double(data_re) + i*double(data_im);\n",
    "    otherwise\n",
    "        error(\"dataType must be either Magnitude or Complex. Stop.\")\n",
    "end"
   ]
  },
  {
   "cell_type": "markdown",
   "metadata": {
    "kernel": "Octave"
   },
   "source": [
    "## Get inversion times"
   ]
  },
  {
   "cell_type": "code",
   "execution_count": null,
   "metadata": {
    "kernel": "SoS"
   },
   "outputs": [],
   "source": [
    "%get imagePath --from Octave\n",
    "%get dataType --from Octave\n",
    "# Strip *.nii.gz file extension\n",
    "import os\n",
    "if dataType==\"Magnitude\":\n",
    "    tmp1 = os.path.splitext(imagePath)[0]\n",
    "else:\n",
    "    tmp1 = os.path.splitext(imagePath[0])[0]\n",
    "    \n",
    "image_path_stem = os.path.splitext(tmp1)[0]\n",
    "\n",
    "# Convert YAML file to JSON\n",
    "import yaml\n",
    "import json\n",
    "with open(\"data/\" + str(image_path_stem) + \".yaml\", 'r') as yaml_in, open(\"data/\" + str(image_path_stem) + \".json\", \"w\") as json_out:\n",
    "    yaml_object = yaml.safe_load(yaml_in) # yaml_object will be a list or a dict\n",
    "    json.dump(yaml_object, json_out)"
   ]
  },
  {
   "cell_type": "code",
   "execution_count": null,
   "metadata": {
    "kernel": "Octave"
   },
   "outputs": [],
   "source": [
    "%get image_path_stem --from SoS\n",
    "\n",
    "json_path = strcat(image_path_stem, '.json');\n",
    "\n",
    "image_config = loadjson(strcat('data/', json_path));\n",
    "TI = image_config.sequence.inversion_times;"
   ]
  },
  {
   "cell_type": "markdown",
   "metadata": {
    "kernel": "Octave"
   },
   "source": [
    "## Save data and configuration"
   ]
  },
  {
   "cell_type": "code",
   "execution_count": null,
   "metadata": {
    "kernel": "Octave"
   },
   "outputs": [],
   "source": [
    "save -mat7-binary 'dataAndConfig.mat'"
   ]
  },
  {
   "cell_type": "markdown",
   "metadata": {
    "kernel": "Octave"
   },
   "source": [
    "## Fit data"
   ]
  },
  {
   "cell_type": "code",
   "execution_count": null,
   "metadata": {
    "kernel": "Octave"
   },
   "outputs": [],
   "source": [
    "!sh ../run_ir_rrsg.sh $LD_LIBRARY_PATH ~ /home/jovyan/demo/dataAndConfig.mat output.mat"
   ]
  },
  {
   "cell_type": "markdown",
   "metadata": {
    "kernel": "Octave"
   },
   "source": [
    "## Save data to nifti"
   ]
  },
  {
   "cell_type": "code",
   "execution_count": null,
   "metadata": {
    "kernel": "Octave"
   },
   "outputs": [],
   "source": [
    "load('output.mat')\n",
    "\n",
    "switch dataType\n",
    "    case \"Magnitude\"\n",
    "        hdr.file_name=strcat('t1map.nii');\n",
    "        nii_save(FitResults.T1,hdr,hdr.file_name);\n",
    "    case \"Complex\"\n",
    "        hdr_re.file_name=strcat('t1map.nii');\n",
    "        nii_save(FitResults.T1,hdr_re,hdr_re.file_name);\n",
    "    otherwise\n",
    "        error(\"dataType must be either Magnitude or Complex. Stop.\")\n",
    "end\n"
   ]
  },
  {
   "cell_type": "markdown",
   "metadata": {
    "kernel": "Octave"
   },
   "source": [
    "## Plot data"
   ]
  },
  {
   "cell_type": "code",
   "execution_count": null,
   "metadata": {
    "kernel": "Octave"
   },
   "outputs": [],
   "source": [
    "%% MATLAB/OCTAVE CODE\n",
    "% Code used to re-orient the images to make pretty figures, and to assign variables with the axis lengths.\n",
    "\n",
    "T1_map = imrotate(squeeze(FitResults.T1),-90);\n",
    "xAxis = [0:size(T1_map,2)-1];\n",
    "yAxis = [0:size(T1_map,1)-1];\n",
    "\n",
    "% Raw MRI data at different TI values\n",
    "TI_1 = imrotate(squeeze(abs(data(:,:,:,1))),-90);\n",
    "TI_2 = imrotate(squeeze(abs(data(:,:,:,2))),-90);\n",
    "TI_3 = imrotate(squeeze(abs(data(:,:,:,3))),-90);\n",
    "TI_4 = imrotate(squeeze(abs(data(:,:,:,4))),-90);\n"
   ]
  },
  {
   "cell_type": "code",
   "execution_count": null,
   "metadata": {
    "kernel": "SoS",
    "tags": [
     "report_output"
    ]
   },
   "outputs": [],
   "source": [
    "%get T1_map --from Octave\n",
    "%get TI_1 --from Octave\n",
    "%get TI_2 --from Octave\n",
    "%get TI_3 --from Octave\n",
    "%get TI_4 --from Octave\n",
    "\n",
    "%get xAxis --from Octave\n",
    "%get yAxis --from Octave\n",
    "\n",
    "# PYTHON CODE\n",
    "# Module imports\n",
    "\n",
    "import matplotlib.pyplot as plt\n",
    "import plotly.plotly as py\n",
    "import plotly.graph_objs as go\n",
    "import numpy as np\n",
    "from plotly import __version__\n",
    "from plotly.offline import download_plotlyjs, init_notebook_mode, plot, iplot\n",
    "config={'showLink': False, 'displayModeBar': False}\n",
    "\n",
    "init_notebook_mode(connected=True)\n",
    "\n",
    "from IPython.core.display import display, HTML\n",
    "\n",
    "from plotly import tools\n",
    "trace1 = go.Heatmap(x = xAxis,\n",
    "                   y = yAxis,\n",
    "                   z=TI_1,\n",
    "                   colorscale='Greys',\n",
    "                   showscale = False,\n",
    "                   visible=True,\n",
    "                   name = 'Signal')\n",
    "trace2 = go.Heatmap(x = xAxis,\n",
    "                   y = yAxis,\n",
    "                   z=TI_2,\n",
    "                   colorscale='Greys',\n",
    "                   showscale = False,\n",
    "                   visible=False,\n",
    "                   name = 'Signal')\n",
    "trace3 = go.Heatmap(x = xAxis,\n",
    "                   y = yAxis,\n",
    "                   z=TI_3,\n",
    "                   colorscale='Greys',\n",
    "                   showscale = False,\n",
    "                   visible=False,\n",
    "                   name = 'Signal')\n",
    "trace4 = go.Heatmap(x = xAxis,\n",
    "                   y = yAxis,\n",
    "                   z=TI_4,\n",
    "                   colorscale='Greys',\n",
    "                   visible=False,\n",
    "                   showscale = False,\n",
    "                   name = 'Signal')\n",
    "trace5 = go.Heatmap(x = xAxis,\n",
    "                   y = yAxis,\n",
    "                   z=T1_map,\n",
    "                   colorscale='Portland',\n",
    "                   xaxis='x2',\n",
    "                   yaxis='y2',\n",
    "                   zmin=0.0,\n",
    "                   zmax=2500,\n",
    "                   visible=True,\n",
    "                   name = 'T1 values (ms)')\n",
    "\n",
    "data=[trace1, trace2, trace3, trace4, trace5]\n",
    "\n",
    "\n",
    "updatemenus = list([\n",
    "    dict(active=0,\n",
    "         x = 0.12,\n",
    "         xanchor = 'left',\n",
    "         y = -0.15,\n",
    "         yanchor = 'bottom',\n",
    "         direction = 'up',\n",
    "         font=dict(\n",
    "                family='Times New Roman',\n",
    "                size=16\n",
    "            ),\n",
    "         buttons=list([   \n",
    "            dict(label = '50 ms',\n",
    "                 method = 'update',\n",
    "                 args = [{'visible': [True, False, False, False, True]},\n",
    "                         ]),\n",
    "            dict(label = '400 ms',\n",
    "                 method = 'update',\n",
    "                 args = [{'visible': [False, True, False, False, True]},\n",
    "                         ]),\n",
    "            dict(label = '1100 ms',\n",
    "                 method = 'update',\n",
    "                 args = [{'visible': [False, False, True, False, True]},\n",
    "                         ]),\n",
    "            dict(label = '2400 ms',\n",
    "                 method = 'update',\n",
    "                 args = [{'visible': [False, False, False, True, True]},\n",
    "                         ]),\n",
    "        ]),\n",
    "    )\n",
    "])\n",
    "\n",
    "layout = dict(\n",
    "    width=560,\n",
    "    height=345,\n",
    "    margin = dict(\n",
    "                t=40,\n",
    "                r=50,\n",
    "                b=10,\n",
    "                l=50),\n",
    "    annotations=[\n",
    "        dict(\n",
    "            x=0.1,\n",
    "            y=1.15,\n",
    "            showarrow=False,\n",
    "            text='MR Image',\n",
    "            font=dict(\n",
    "                family='Times New Roman',\n",
    "                size=26\n",
    "            ),\n",
    "            xref='paper',\n",
    "            yref='paper'\n",
    "        ),\n",
    "        dict(\n",
    "            x=0.84,\n",
    "            y=1.15,\n",
    "            showarrow=False,\n",
    "            text='T<sub>1</sub> map',\n",
    "            font=dict(\n",
    "                family='Times New Roman',\n",
    "                size=26\n",
    "            ),\n",
    "            xref='paper',\n",
    "            yref='paper'\n",
    "        ),\n",
    "        dict(\n",
    "            x=1.22,\n",
    "            y=1.15,\n",
    "            showarrow=False,\n",
    "            text='T<sub>1</sub> (ms)',\n",
    "            font=dict(\n",
    "                family='Times New Roman',\n",
    "                size=26\n",
    "            ),\n",
    "            xref='paper',\n",
    "            yref='paper'\n",
    "        ),\n",
    "        dict(\n",
    "            x=0.02,\n",
    "            y=-0.15,\n",
    "            showarrow=False,\n",
    "            text='TI:',\n",
    "            font=dict(\n",
    "                family='Times New Roman',\n",
    "                size=22\n",
    "            ),\n",
    "            xref='paper',\n",
    "            yref='paper'\n",
    "        ),\n",
    "    ],\n",
    "    xaxis = dict(range = [0,255], autorange = False,\n",
    "             showgrid = False, zeroline = False, showticklabels = False,\n",
    "             ticks = '', domain=[0, 0.5]),\n",
    "    yaxis = dict(range = [0,255], autorange = False,\n",
    "             showgrid = False, zeroline = False, showticklabels = False,\n",
    "             ticks = '', domain=[0.1, 0.9]),\n",
    "    xaxis2 = dict(range = [0,255], autorange = False,\n",
    "             showgrid = False, zeroline = False, showticklabels = False,\n",
    "             ticks = '', domain=[0.5, 1]),\n",
    "    yaxis2 = dict(range = [0,255], autorange = False,\n",
    "             showgrid = False, zeroline = False, showticklabels = False,\n",
    "             ticks = '', domain=[0.1, 0.9], anchor='x2'),\n",
    "    showlegend = False,\n",
    "    autosize = False,\n",
    "    updatemenus=updatemenus\n",
    ")\n",
    "\n",
    "\n",
    "fig = dict(data=data, layout=layout)\n",
    "\n",
    "iplot(fig, filename = 'basic-heatmap', config = config)"
   ]
  },
  {
   "cell_type": "code",
   "execution_count": null,
   "metadata": {
    "kernel": "SoS"
   },
   "outputs": [],
   "source": []
  }
 ],
 "metadata": {
  "kernelspec": {
   "display_name": "SoS",
   "language": "sos",
   "name": "sos"
  },
  "language_info": {
   "codemirror_mode": "sos",
   "file_extension": ".sos",
   "mimetype": "text/x-sos",
   "name": "sos",
   "nbconvert_exporter": "sos_notebook.converter.SoS_Exporter",
   "pygments_lexer": "sos"
  },
  "sos": {
   "kernels": [
    [
     "Octave",
     "octave",
     "Octave",
     "#dff8fb"
    ],
    [
     "SoS",
     "sos",
     "",
     ""
    ]
   ],
   "panel": {
    "displayed": true,
    "height": 0,
    "style": "side"
   },
   "version": "0.17.2"
  }
 },
 "nbformat": 4,
 "nbformat_minor": 2
}
