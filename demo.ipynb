{
 "cells": [
  {
   "cell_type": "markdown",
   "metadata": {
    "kernel": "SoS"
   },
   "source": [
    "# Demo T1 processing notebook"
   ]
  },
  {
   "cell_type": "markdown",
   "metadata": {
    "kernel": "SoS"
   },
   "source": [
    "## Configuration options\n"
   ]
  },
  {
   "cell_type": "markdown",
   "metadata": {
    "kernel": "SoS"
   },
   "source": [
    "Please copy the link from OSF to your data:"
   ]
  },
  {
   "cell_type": "code",
   "execution_count": null,
   "metadata": {
    "kernel": "Octave"
   },
   "outputs": [],
   "source": [
    "OSF_link = \"https://osf.io/ezv74/download/\";"
   ]
  },
  {
   "cell_type": "markdown",
   "metadata": {
    "kernel": "Octave"
   },
   "source": [
    "Please customize the inversion times (TI) for your measurements (in ms):"
   ]
  },
  {
   "cell_type": "code",
   "execution_count": null,
   "metadata": {
    "kernel": "Octave"
   },
   "outputs": [],
   "source": [
    "TI = [30, 530, 1030, 1530];"
   ]
  },
  {
   "cell_type": "markdown",
   "metadata": {
    "kernel": "Octave"
   },
   "source": [
    "Please specify your data type (\"Magnitude\" or \"Complex\"):"
   ]
  },
  {
   "cell_type": "code",
   "execution_count": null,
   "metadata": {
    "kernel": "Octave"
   },
   "outputs": [],
   "source": [
    "dataType = \"Magnitude\""
   ]
  },
  {
   "cell_type": "markdown",
   "metadata": {
    "kernel": "Octave"
   },
   "source": [
    "## Download data"
   ]
  },
  {
   "cell_type": "code",
   "execution_count": null,
   "metadata": {
    "kernel": "Octave"
   },
   "outputs": [],
   "source": [
    "cmd = ['curl -L -o rrsg_dataset.zip', ' ', OSF_link];\n",
    "[STATUS,MESSAGE] = unix(cmd);\n",
    "unzip('rrsg_dataset.zip', 'data/');"
   ]
  },
  {
   "cell_type": "markdown",
   "metadata": {
    "kernel": "Octave"
   },
   "source": [
    "## Run data format check"
   ]
  },
  {
   "cell_type": "code",
   "execution_count": null,
   "metadata": {
    "kernel": "Octave"
   },
   "outputs": [],
   "source": [
    "% Reset dataCheckPassed variable\n",
    "dataCheckPassed = [];\n",
    "\n",
    "try \n",
    "    %% Check that the files have the correct names \n",
    "    if exist('data/IRData.mat')\n",
    "         % File exists.\n",
    "    else\n",
    "       error(\"Your OSF data must contain a file called IRData.mat, and it doesn't.\")\n",
    "    end\n",
    "\n",
    "    if exist('data/IRMask.mat')\n",
    "         % File exists.\n",
    "    else\n",
    "       error(\"Your OSF data must contain a file called IRMask.mat, and it doesn't.\")\n",
    "    end\n",
    "\n",
    "    % Load files\n",
    "    try\n",
    "        load('data/IRData.mat');\n",
    "    catch\n",
    "        error(\"IRData.mat could not be loaded correctly.\")\n",
    "    end\n",
    "\n",
    "    try\n",
    "        load('data/IRMask.mat');\n",
    "    catch\n",
    "        error(\"IRData.mat could not be loaded correctly.\")\n",
    "    end\n",
    "\n",
    "    % Check the expected variables exist\n",
    "    if exist(\"data\")~=1\n",
    "        error(\"The IRData file should load a variable called `data`, but it didn't.\")\n",
    "    end\n",
    "    if exist(\"Mask\")~=1\n",
    "        error(\"The IRMask file should load a variable called `Mask`, but it didn't.\")\n",
    "    end\n",
    "\n",
    "    % Check the dimensions of the files\n",
    "    if size(data, 4) ~= length(TI)\n",
    "        error(\"The fourth dimension of your `data` variable should be the same size as the number of TIs, but it isn't.\")\n",
    "    end\n",
    "    \n",
    "    if ~((size(data, 1) == size(Mask, 1)) & (size(data, 2) == size(Mask, 2)) & (size(data, 3) == size(Mask, 3)))\n",
    "        error(\"The first three dimensions of you `data` and `Mask` variabls should match, but they don't.\")\n",
    "    end\n",
    "\n",
    "    % If you got here, all tests passed\n",
    "    dataCheckPassed = true;\n",
    "catch err\n",
    "    error(err)\n",
    "    dataCheckPassed = false;\n",
    "end\n",
    "\n",
    "if dataCheckPassed\n",
    "    disp(\"All data format check passed, you can continue to the next step of the script.\")\n",
    "else\n",
    "    disp(\"At least one data format check did not pass. Please review our submission guidelines, and reupload your data to OSF.\")\n",
    "end"
   ]
  },
  {
   "cell_type": "markdown",
   "metadata": {
    "kernel": "Octave"
   },
   "source": [
    "## Startup qMRLab"
   ]
  },
  {
   "cell_type": "code",
   "execution_count": null,
   "metadata": {
    "kernel": "Octave"
   },
   "outputs": [],
   "source": [
    "%% MATLAB/OCTAVE CODE\n",
    "% Adds qMRLab to the path of the environment\n",
    "\n",
    "try\n",
    "    cd qMRLab\n",
    "    startup\n",
    "catch\n",
    "    error(\"qMRLab could not be started correctly.\")\n",
    "end"
   ]
  },
  {
   "cell_type": "markdown",
   "metadata": {
    "kernel": "Octave"
   },
   "source": [
    "## Prepare variables for fitting"
   ]
  },
  {
   "cell_type": "code",
   "execution_count": null,
   "metadata": {
    "kernel": "Octave"
   },
   "outputs": [],
   "source": [
    "% Assign data to variables needed for qMRLab module\n",
    "IRData = data;\n",
    "Mask = imrotate(Mask,180);\n",
    "\n",
    "% Format qMRLab inversion_recovery model parameters, and load them into the Model object\n",
    "Model = inversion_recovery; \n",
    "\n",
    "% Set the customizable settings in the model\n",
    "Model.Prot.IRData.Mat = [TI'];\n",
    "Model.options.method = dataType;\n",
    "\n",
    "% Format data structure so that they may be fit by the model\n",
    "data = struct();\n",
    "data.IRData= double(IRData);\n",
    "data.Mask= double(Mask);"
   ]
  },
  {
   "cell_type": "markdown",
   "metadata": {
    "kernel": "Octave"
   },
   "source": [
    "## Fit data"
   ]
  },
  {
   "cell_type": "code",
   "execution_count": null,
   "metadata": {
    "kernel": "Octave"
   },
   "outputs": [],
   "source": [
    "FitResults = FitData(data,Model,0); % The '0' flag is so that no wait bar is shown."
   ]
  },
  {
   "cell_type": "markdown",
   "metadata": {
    "kernel": "Octave"
   },
   "source": [
    "## Plot data"
   ]
  },
  {
   "cell_type": "code",
   "execution_count": null,
   "metadata": {
    "kernel": "Octave"
   },
   "outputs": [],
   "source": [
    "%% MATLAB/OCTAVE CODE\n",
    "% Code used to re-orient the images to make pretty figures, and to assign variables with the axis lengths.\n",
    "\n",
    "T1_map = imrotate(FitResults.T1.*Mask,-90);\n",
    "xAxis = [0:size(T1_map,2)-1];\n",
    "yAxis = [0:size(T1_map,1)-1];\n",
    "\n",
    "% Raw MRI data at different TI values\n",
    "TI_0030 = imrotate(squeeze(IRData(:,:,:,1).*Mask),-90);\n",
    "TI_0530 = imrotate(squeeze(IRData(:,:,:,2).*Mask),-90);\n",
    "TI_1030 = imrotate(squeeze(IRData(:,:,:,3).*Mask),-90);\n",
    "TI_1530 = imrotate(squeeze(IRData(:,:,:,4).*Mask),-90);"
   ]
  },
  {
   "cell_type": "code",
   "execution_count": null,
   "metadata": {
    "kernel": "Python3",
    "tags": [
     "report_output"
    ]
   },
   "outputs": [],
   "source": [
    "%get T1_map --from Octave\n",
    "%get TI_0030 --from Octave\n",
    "%get TI_0530 --from Octave\n",
    "%get TI_1030 --from Octave\n",
    "%get TI_1530 --from Octave\n",
    "%get xAxis --from Octave\n",
    "%get yAxis --from Octave\n",
    "\n",
    "# PYTHON CODE\n",
    "# Module imports\n",
    "\n",
    "import matplotlib.pyplot as plt\n",
    "import plotly.plotly as py\n",
    "import plotly.graph_objs as go\n",
    "import numpy as np\n",
    "from plotly import __version__\n",
    "from plotly.offline import download_plotlyjs, init_notebook_mode, plot, iplot\n",
    "config={'showLink': False, 'displayModeBar': False}\n",
    "\n",
    "init_notebook_mode(connected=True)\n",
    "\n",
    "from IPython.core.display import display, HTML\n",
    "\n",
    "from plotly import tools\n",
    "trace1 = go.Heatmap(x = xAxis,\n",
    "                   y = yAxis,\n",
    "                   z=TI_0030,\n",
    "                   colorscale='Greys',\n",
    "                   showscale = False,\n",
    "                   visible=False,\n",
    "                   name = 'Signal')\n",
    "trace2 = go.Heatmap(x = xAxis,\n",
    "                   y = yAxis,\n",
    "                   z=TI_0530,\n",
    "                   colorscale='Greys',\n",
    "                   showscale = False,\n",
    "                   visible=False,\n",
    "                   name = 'Signal')\n",
    "trace3 = go.Heatmap(x = xAxis,\n",
    "                   y = yAxis,\n",
    "                   z=TI_1030,\n",
    "                   colorscale='Greys',\n",
    "                   showscale = False,\n",
    "                   visible=True,\n",
    "                   name = 'Signal')\n",
    "trace4 = go.Heatmap(x = xAxis,\n",
    "                   y = yAxis,\n",
    "                   z=TI_1530,\n",
    "                   colorscale='Greys',\n",
    "                   visible=False,\n",
    "                   showscale = False,\n",
    "                   name = 'Signal')\n",
    "trace5 = go.Heatmap(x = xAxis,\n",
    "                   y = yAxis,\n",
    "                   z=T1_map,\n",
    "                   colorscale='Portland',\n",
    "                   xaxis='x2',\n",
    "                   yaxis='y2',\n",
    "                   visible=True,\n",
    "                   name = 'T1 values (ms)')\n",
    "\n",
    "data=[trace1, trace2, trace3, trace4, trace5]\n",
    "\n",
    "\n",
    "updatemenus = list([\n",
    "    dict(active=2,\n",
    "         x = 0.12,\n",
    "         xanchor = 'left',\n",
    "         y = -0.15,\n",
    "         yanchor = 'bottom',\n",
    "         direction = 'up',\n",
    "         font=dict(\n",
    "                family='Times New Roman',\n",
    "                size=16\n",
    "            ),\n",
    "         buttons=list([   \n",
    "            dict(label = '30 ms',\n",
    "                 method = 'update',\n",
    "                 args = [{'visible': [True, False, False, False, True]},\n",
    "                         ]),\n",
    "            dict(label = '530 ms',\n",
    "                 method = 'update',\n",
    "                 args = [{'visible': [False, True, False, False, True]},\n",
    "                         ]),\n",
    "            dict(label = '1030 ms',\n",
    "                 method = 'update',\n",
    "                 args = [{'visible': [False, False, True, False, True]},\n",
    "                         ]),\n",
    "            dict(label = '1530 ms',\n",
    "                 method = 'update',\n",
    "                 args = [{'visible': [False,False, False, True, True]},\n",
    "                         ])\n",
    "        ]),\n",
    "    )\n",
    "])\n",
    "\n",
    "layout = dict(\n",
    "    width=560,\n",
    "    height=345,\n",
    "    margin = dict(\n",
    "                t=40,\n",
    "                r=50,\n",
    "                b=10,\n",
    "                l=50),\n",
    "    annotations=[\n",
    "        dict(\n",
    "            x=0.06,\n",
    "            y=1.15,\n",
    "            showarrow=False,\n",
    "            text='MR Image',\n",
    "            font=dict(\n",
    "                family='Times New Roman',\n",
    "                size=26\n",
    "            ),\n",
    "            xref='paper',\n",
    "            yref='paper'\n",
    "        ),\n",
    "        dict(\n",
    "            x=0.6,\n",
    "            y=1.15,\n",
    "            showarrow=False,\n",
    "            text='T<sub>1</sub> map',\n",
    "            font=dict(\n",
    "                family='Times New Roman',\n",
    "                size=26\n",
    "            ),\n",
    "            xref='paper',\n",
    "            yref='paper'\n",
    "        ),\n",
    "        dict(\n",
    "            x=1.22,\n",
    "            y=1.15,\n",
    "            showarrow=False,\n",
    "            text='T<sub>1</sub> (ms)',\n",
    "            font=dict(\n",
    "                family='Times New Roman',\n",
    "                size=26\n",
    "            ),\n",
    "            xref='paper',\n",
    "            yref='paper'\n",
    "        ),\n",
    "        dict(\n",
    "            x=0.02,\n",
    "            y=-0.15,\n",
    "            showarrow=False,\n",
    "            text='TI:',\n",
    "            font=dict(\n",
    "                family='Times New Roman',\n",
    "                size=22\n",
    "            ),\n",
    "            xref='paper',\n",
    "            yref='paper'\n",
    "        ),\n",
    "    ],\n",
    "    xaxis = dict(range = [0,127], autorange = False,\n",
    "             showgrid = False, zeroline = False, showticklabels = False,\n",
    "             ticks = '', domain=[0, 0.6]),\n",
    "    yaxis = dict(range = [0,127], autorange = False,\n",
    "             showgrid = False, zeroline = False, showticklabels = False,\n",
    "             ticks = '', domain=[0, 1]),\n",
    "    xaxis2 = dict(range = [0,127], autorange = False,\n",
    "             showgrid = False, zeroline = False, showticklabels = False,\n",
    "             ticks = '', domain=[0.4, 1]),\n",
    "    yaxis2 = dict(range = [0,127], autorange = False,\n",
    "             showgrid = False, zeroline = False, showticklabels = False,\n",
    "             ticks = '', domain=[0, 1], anchor='x2'),\n",
    "    showlegend = False,\n",
    "    autosize = False,\n",
    "    updatemenus=updatemenus\n",
    ")\n",
    "\n",
    "\n",
    "fig = dict(data=data, layout=layout)\n",
    "\n",
    "iplot(fig, filename = 'basic-heatmap', config = config)"
   ]
  },
  {
   "cell_type": "code",
   "execution_count": null,
   "metadata": {
    "kernel": "Python3"
   },
   "outputs": [],
   "source": []
  }
 ],
 "metadata": {
  "kernelspec": {
   "display_name": "SoS",
   "language": "sos",
   "name": "sos"
  },
  "language_info": {
   "codemirror_mode": "sos",
   "file_extension": ".sos",
   "mimetype": "text/x-sos",
   "name": "sos",
   "nbconvert_exporter": "sos_notebook.converter.SoS_Exporter",
   "pygments_lexer": "sos"
  },
  "sos": {
   "kernels": [
    [
     "Octave",
     "octave",
     "Octave",
     "#dff8fb"
    ],
    [
     "Python3",
     "python3",
     "Python3",
     "#FFD91A"
    ]
   ],
   "panel": {
    "displayed": true,
    "height": 0,
    "style": "side"
   },
   "version": "0.17.2"
  }
 },
 "nbformat": 4,
 "nbformat_minor": 2
}
